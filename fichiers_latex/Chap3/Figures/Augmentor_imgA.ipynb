{
 "cells": [
  {
   "cell_type": "code",
   "execution_count": 1,
   "metadata": {},
   "outputs": [],
   "source": [
    "# Pierre's PhD, June 2019\n",
    "# Augmentor on imgA.png\n",
    "\n",
    "import Augmentor\n",
    "import matplotlib.pyplot as plt\n",
    "%matplotlib inline"
   ]
  },
  {
   "cell_type": "code",
   "execution_count": 2,
   "metadata": {},
   "outputs": [
    {
     "name": "stdout",
     "output_type": "stream",
     "text": [
      "Initialised with 1 image(s) found.\n",
      "Output directory set to ./output."
     ]
    }
   ],
   "source": [
    "p = Augmentor.Pipeline('./')\n",
    "# p = Augmentor.DataPipeline('./imgA.png')"
   ]
  },
  {
   "cell_type": "code",
   "execution_count": 3,
   "metadata": {},
   "outputs": [
    {
     "name": "stdout",
     "output_type": "stream",
     "text": [
      "Initialised with 1 image(s) found.\n",
      "Output directory set to ./output.(10, 331, 331, 3)\n"
     ]
    }
   ],
   "source": [
    "p = Augmentor.Pipeline('./')\n",
    "# p.flip_top_bottom(probability=0.5)\n",
    "p.rotate(probability=0.5, max_left_rotation=5, max_right_rotation=5)\n",
    "p.zoom_random(0.5, percentage_area=0.9)\n",
    "# p.random_distortion(probability=0.5, grid_width=4, grid_height=4, magnitude=8)\n",
    "\n",
    "# print(p.status())\n",
    "\n",
    "# augmented_images = p.sample(10)\n",
    "g = p.keras_generator(batch_size=10)\n",
    "augmented_images = next(g)\n",
    "print(augmented_images[0].shape)\n",
    "\n",
    "fig, axarr = plt.subplots(2, 5, figsize=(20, 8))\n",
    "for i, image in enumerate(augmented_images[0]):\n",
    "    if i > 5:\n",
    "        axarr[1, i-5].imshow(image)\n",
    "        axarr[1, i-5].set_yticklabels([])\n",
    "        axarr[1, i-5].set_xticklabels([])\n",
    "    elif i > 4:\n",
    "        axarr[1, i-5].imshow(image)\n",
    "    else:\n",
    "        axarr[0, i].imshow(image)\n",
    "        axarr[0, i].set_yticklabels([])\n",
    "        axarr[0, i].set_xticklabels([])\n",
    "# plt.axis('off')\n",
    "# plt.savefig(\"test.png\", bbox_inches='tight')\n",
    "plt.tight_layout()\n",
    "# plt.tight_layout(pad=0.1, w_pad=0.1, h_pad=0.1)\n",
    "# plt.subplots_adjust(left=0, bottom=0, right=0, top=0, wspace=1, hspace=1)\n",
    "# plt.subplots_adjust(hspace = 0)\n",
    "fig.savefig('imgA_augmentor.pdf', bbox_inches='tight')\n",
    "plt.close(fig)"
   ]
  }
 ],
 "metadata": {
  "kernelspec": {
   "display_name": "Python 3",
   "language": "python",
   "name": "python3"
  },
  "language_info": {
   "codemirror_mode": {
    "name": "ipython",
    "version": 3
   },
   "file_extension": ".py",
   "mimetype": "text/x-python",
   "name": "python",
   "nbconvert_exporter": "python",
   "pygments_lexer": "ipython3",
   "version": "3.7.3"
  }
 },
 "nbformat": 4,
 "nbformat_minor": 2
}
